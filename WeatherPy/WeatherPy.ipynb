{
 "cells": [
  {
   "cell_type": "markdown",
   "metadata": {},
   "source": [
    "# WeatherPy\n",
    "----\n",
    "\n",
    "#### Note\n",
    "* Instructions have been included for each segment. You do not have to follow them exactly, but they are included to help you think through the steps."
   ]
  },
  {
   "cell_type": "code",
   "execution_count": 18,
   "metadata": {
    "scrolled": true
   },
   "outputs": [],
   "source": [
    "# Dependencies and Setup\n",
    "import matplotlib.pyplot as plt\n",
    "import pandas as pd\n",
    "import numpy as np\n",
    "import requests\n",
    "import time\n",
    "from scipy.stats import linregress\n",
    "import pprint as pp\n",
    "from datetime import date\n",
    "\n",
    "analysis_date = date.today().strftime(\"%m/%d/%y\")\n",
    "\n",
    "# Import API key\n",
    "from api_keys import weather_api_key\n",
    "units = 'imperial'\n",
    "\n",
    "# Incorporated citipy to determine city based on latitude and longitude\n",
    "from citipy import citipy\n",
    "\n",
    "# Output File (CSV)\n",
    "output_data_file = \"output_data/cities.csv\"\n",
    "\n",
    "# Range of latitudes and longitudes\n",
    "lat_range = (-90, 90)\n",
    "lng_range = (-180, 180)"
   ]
  },
  {
   "cell_type": "markdown",
   "metadata": {},
   "source": [
    "## Generate Cities List"
   ]
  },
  {
   "cell_type": "code",
   "execution_count": 2,
   "metadata": {},
   "outputs": [
    {
     "data": {
      "text/plain": [
       "608"
      ]
     },
     "execution_count": 2,
     "metadata": {},
     "output_type": "execute_result"
    }
   ],
   "source": [
    "# List for holding lat_lngs and cities\n",
    "lat_lngs = []\n",
    "cities = []\n",
    "\n",
    "# Create a set of random lat and lng combinations\n",
    "lats = np.random.uniform(lat_range[0], lat_range[1], size=1500)\n",
    "lngs = np.random.uniform(lng_range[0], lng_range[1], size=1500)\n",
    "lat_lngs = zip(lats, lngs)\n",
    "\n",
    "# Identify nearest city for each lat, lng combination\n",
    "for lat_lng in lat_lngs:\n",
    "    city = citipy.nearest_city(lat_lng[0], lat_lng[1]).city_name\n",
    "    \n",
    "    # If the city is unique, then add it to a our cities list\n",
    "    if city not in cities:\n",
    "        cities.append(city)\n",
    "\n",
    "# Print the city count to confirm sufficient count\n",
    "len(cities)"
   ]
  },
  {
   "cell_type": "markdown",
   "metadata": {},
   "source": [
    "### Perform API Calls\n",
    "* Perform a weather check on each city using a series of successive API calls.\n",
    "* Include a print log of each city as it'sbeing processed (with the city number and city name).\n"
   ]
  },
  {
   "cell_type": "code",
   "execution_count": 3,
   "metadata": {
    "scrolled": true
   },
   "outputs": [
    {
     "name": "stdout",
     "output_type": "stream",
     "text": [
      "\n",
      "Beginning Data Retrieval\n",
      "-----------------------------\n",
      "    \n",
      "Processing Record 1 of Set 1 | dikson\n",
      "Processing Record 2 of Set 1 | olinda\n",
      "Processing Record 3 of Set 1 | hun\n",
      "Processing Record 4 of Set 1 | aripuana\n",
      "Processing Record 5 of Set 1 | valdivia\n",
      "Processing Record 6 of Set 1 | rikitea\n",
      "Processing Record 7 of Set 1 | provideniya\n",
      "Processing Record 8 of Set 1 | mutis\n",
      "Processing Record 9 of Set 1 | mataura\n",
      "Processing Record 10 of Set 1 | yebaishou\n",
      "Processing Record 11 of Set 1 | busselton\n",
      "Processing Record 12 of Set 1 | dingle\n",
      "Processing Record 13 of Set 1 | port alfred\n",
      "City not found. Skipping...\n",
      "Processing Record 14 of Set 1 | mareeba\n",
      "Processing Record 15 of Set 1 | mahebourg\n",
      "Processing Record 16 of Set 1 | nikolskoye\n",
      "Processing Record 17 of Set 1 | albany\n",
      "Processing Record 18 of Set 1 | bedesa\n",
      "Processing Record 19 of Set 1 | ushuaia\n",
      "City not found. Skipping...\n",
      "City not found. Skipping...\n",
      "Processing Record 20 of Set 1 | zaysan\n",
      "Processing Record 21 of Set 1 | salalah\n",
      "Processing Record 22 of Set 1 | uyskoye\n",
      "Processing Record 23 of Set 1 | wajima\n",
      "Processing Record 24 of Set 1 | qaanaaq\n",
      "Processing Record 25 of Set 1 | robertsport\n",
      "Processing Record 26 of Set 1 | coquimbo\n",
      "Processing Record 27 of Set 1 | chuy\n",
      "Processing Record 28 of Set 1 | cape town\n",
      "Processing Record 29 of Set 1 | upernavik\n",
      "Processing Record 30 of Set 1 | almaznyy\n",
      "Processing Record 31 of Set 1 | ribeira grande\n",
      "City not found. Skipping...\n",
      "Processing Record 32 of Set 1 | san vicente\n",
      "Processing Record 33 of Set 1 | bilibino\n",
      "Processing Record 34 of Set 1 | punta arenas\n",
      "Processing Record 35 of Set 1 | hermanus\n",
      "Processing Record 36 of Set 1 | tarbes\n",
      "Processing Record 37 of Set 1 | tilichiki\n",
      "Processing Record 38 of Set 1 | byron bay\n",
      "Processing Record 39 of Set 1 | vaini\n",
      "Processing Record 40 of Set 1 | puerto ayora\n",
      "Processing Record 41 of Set 1 | kanniyakumari\n",
      "Processing Record 42 of Set 1 | komsomolskiy\n",
      "Processing Record 43 of Set 1 | laguna\n",
      "City not found. Skipping...\n",
      "Processing Record 44 of Set 1 | vila\n",
      "Processing Record 45 of Set 1 | rawson\n",
      "Processing Record 46 of Set 1 | quatre cocos\n",
      "Processing Record 47 of Set 1 | kosa\n",
      "Processing Record 48 of Set 1 | avarua\n",
      "City not found. Skipping...\n",
      "Processing Record 49 of Set 1 | zahirabad\n",
      "Processing Record 50 of Set 1 | tautira\n",
      "Processing Record 1 of Set 2 | port elizabeth\n",
      "Processing Record 2 of Set 2 | razole\n",
      "Processing Record 3 of Set 2 | carutapera\n",
      "Processing Record 4 of Set 2 | bredasdorp\n",
      "Processing Record 5 of Set 2 | santa cruz\n",
      "Processing Record 6 of Set 2 | carnarvon\n",
      "Processing Record 7 of Set 2 | hobart\n",
      "Processing Record 8 of Set 2 | yellowknife\n",
      "Processing Record 9 of Set 2 | knysna\n",
      "Processing Record 10 of Set 2 | chokurdakh\n",
      "Processing Record 11 of Set 2 | sfantu gheorghe\n",
      "Processing Record 12 of Set 2 | jawhar\n",
      "Processing Record 13 of Set 2 | jamestown\n",
      "Processing Record 14 of Set 2 | dordrecht\n",
      "Processing Record 15 of Set 2 | bluff\n",
      "Processing Record 16 of Set 2 | carson city\n",
      "Processing Record 17 of Set 2 | hilo\n",
      "Processing Record 18 of Set 2 | pauini\n",
      "Processing Record 19 of Set 2 | aquiraz\n",
      "Processing Record 20 of Set 2 | udachnyy\n",
      "Processing Record 21 of Set 2 | sao filipe\n",
      "Processing Record 22 of Set 2 | bethel\n",
      "City not found. Skipping...\n",
      "Processing Record 23 of Set 2 | kaolack\n",
      "Processing Record 24 of Set 2 | barguzin\n",
      "City not found. Skipping...\n",
      "Processing Record 25 of Set 2 | georgetown\n",
      "City not found. Skipping...\n",
      "Processing Record 26 of Set 2 | goma\n",
      "Processing Record 27 of Set 2 | san cristobal\n",
      "Processing Record 28 of Set 2 | vila velha\n",
      "Processing Record 29 of Set 2 | souillac\n",
      "Processing Record 30 of Set 2 | norman wells\n",
      "Processing Record 31 of Set 2 | pueblo nuevo\n",
      "Processing Record 32 of Set 2 | lorengau\n",
      "Processing Record 33 of Set 2 | muros\n",
      "Processing Record 34 of Set 2 | shimsk\n",
      "Processing Record 35 of Set 2 | saint-joseph\n",
      "Processing Record 36 of Set 2 | east london\n",
      "City not found. Skipping...\n",
      "Processing Record 37 of Set 2 | kapaa\n",
      "Processing Record 38 of Set 2 | verkhoyansk\n",
      "Processing Record 39 of Set 2 | atuona\n",
      "Processing Record 40 of Set 2 | havre\n",
      "City not found. Skipping...\n",
      "Processing Record 41 of Set 2 | changping\n",
      "Processing Record 42 of Set 2 | butaritari\n",
      "Processing Record 43 of Set 2 | mazatlan\n",
      "Processing Record 44 of Set 2 | itarema\n",
      "City not found. Skipping...\n",
      "Processing Record 45 of Set 2 | pevek\n",
      "Processing Record 46 of Set 2 | narsaq\n",
      "Processing Record 47 of Set 2 | buraydah\n",
      "Processing Record 48 of Set 2 | sigayevo\n",
      "Processing Record 49 of Set 2 | cayenne\n",
      "Processing Record 50 of Set 2 | tura\n",
      "Processing Record 1 of Set 3 | nhulunbuy\n",
      "Processing Record 2 of Set 3 | longyearbyen\n",
      "Processing Record 3 of Set 3 | tabou\n",
      "Processing Record 4 of Set 3 | hobyo\n",
      "City not found. Skipping...\n",
      "City not found. Skipping...\n",
      "Processing Record 5 of Set 3 | benjamin hill\n",
      "Processing Record 6 of Set 3 | port macquarie\n",
      "Processing Record 7 of Set 3 | kodinsk\n",
      "Processing Record 8 of Set 3 | kruisfontein\n",
      "Processing Record 9 of Set 3 | hay river\n",
      "Processing Record 10 of Set 3 | shuyskoye\n",
      "Processing Record 11 of Set 3 | ahipara\n",
      "Processing Record 12 of Set 3 | castro\n",
      "City not found. Skipping...\n",
      "Processing Record 13 of Set 3 | itarsi\n",
      "City not found. Skipping...\n",
      "City not found. Skipping...\n",
      "Processing Record 14 of Set 3 | mar del plata\n",
      "Processing Record 15 of Set 3 | libreville\n",
      "Processing Record 16 of Set 3 | kodiak\n",
      "Processing Record 17 of Set 3 | bealanana\n",
      "Processing Record 18 of Set 3 | iqaluit\n",
      "Processing Record 19 of Set 3 | buzdyak\n",
      "Processing Record 20 of Set 3 | bulaevo\n",
      "Processing Record 21 of Set 3 | belaya gora\n",
      "Processing Record 22 of Set 3 | barrow\n",
      "Processing Record 23 of Set 3 | ponnani\n",
      "Processing Record 24 of Set 3 | neyshabur\n",
      "Processing Record 25 of Set 3 | jaque\n",
      "Processing Record 26 of Set 3 | axim\n",
      "Processing Record 27 of Set 3 | luganville\n",
      "Processing Record 28 of Set 3 | chapais\n",
      "Processing Record 29 of Set 3 | murray bridge\n",
      "City not found. Skipping...\n",
      "Processing Record 30 of Set 3 | tuktoyaktuk\n",
      "Processing Record 31 of Set 3 | puksoozero\n",
      "Processing Record 32 of Set 3 | aden\n",
      "Processing Record 33 of Set 3 | kaitangata\n",
      "Processing Record 34 of Set 3 | harrison\n",
      "Processing Record 35 of Set 3 | dunedin\n",
      "Processing Record 36 of Set 3 | bengkulu\n",
      "Processing Record 37 of Set 3 | petropavlovsk-kamchatskiy\n",
      "Processing Record 38 of Set 3 | katobu\n",
      "Processing Record 39 of Set 3 | moroni\n",
      "Processing Record 40 of Set 3 | talnakh\n",
      "Processing Record 41 of Set 3 | ambilobe\n",
      "Processing Record 42 of Set 3 | bluefields\n",
      "Processing Record 43 of Set 3 | weatherford\n",
      "Processing Record 44 of Set 3 | tashtyp\n",
      "Processing Record 45 of Set 3 | saint-philippe\n",
      "Processing Record 46 of Set 3 | codrington\n",
      "Processing Record 47 of Set 3 | moussoro\n",
      "Processing Record 48 of Set 3 | youghal\n",
      "Processing Record 49 of Set 3 | diego de almagro\n",
      "Processing Record 50 of Set 3 | new norfolk\n",
      "Processing Record 1 of Set 4 | san\n",
      "Processing Record 2 of Set 4 | jackson\n",
      "Processing Record 3 of Set 4 | dejen\n",
      "Processing Record 4 of Set 4 | velikiy ustyug\n",
      "Processing Record 5 of Set 4 | leningradskiy\n",
      "Processing Record 6 of Set 4 | shelburne\n",
      "Processing Record 7 of Set 4 | takaka\n",
      "City not found. Skipping...\n",
      "Processing Record 8 of Set 4 | altamont\n",
      "Processing Record 9 of Set 4 | ponta do sol\n",
      "Processing Record 10 of Set 4 | sitka\n",
      "Processing Record 11 of Set 4 | storforshei\n",
      "Processing Record 12 of Set 4 | bambous virieux\n",
      "Processing Record 13 of Set 4 | airai\n",
      "City not found. Skipping...\n",
      "Processing Record 14 of Set 4 | camacha\n",
      "Processing Record 15 of Set 4 | tiksi\n",
      "Processing Record 16 of Set 4 | fernandez\n",
      "Processing Record 17 of Set 4 | pimentel\n",
      "Processing Record 18 of Set 4 | saint-augustin\n",
      "Processing Record 19 of Set 4 | mnogovershinnyy\n",
      "Processing Record 20 of Set 4 | korla\n",
      "Processing Record 21 of Set 4 | sabang\n",
      "Processing Record 22 of Set 4 | moose factory\n",
      "Processing Record 23 of Set 4 | assomada\n",
      "Processing Record 24 of Set 4 | antigonish\n",
      "Processing Record 25 of Set 4 | severo-kurilsk\n",
      "Processing Record 26 of Set 4 | providencia\n",
      "Processing Record 27 of Set 4 | hithadhoo\n",
      "Processing Record 28 of Set 4 | port-gentil\n",
      "Processing Record 29 of Set 4 | kavieng\n",
      "Processing Record 30 of Set 4 | taoudenni\n",
      "Processing Record 31 of Set 4 | zyryanka\n",
      "Processing Record 32 of Set 4 | san mateo ixtatan\n",
      "Processing Record 33 of Set 4 | fort dodge\n",
      "Processing Record 34 of Set 4 | calama\n"
     ]
    },
    {
     "name": "stdout",
     "output_type": "stream",
     "text": [
      "City not found. Skipping...\n",
      "Processing Record 35 of Set 4 | la ronge\n",
      "Processing Record 36 of Set 4 | mangrol\n",
      "Processing Record 37 of Set 4 | ilulissat\n",
      "Processing Record 38 of Set 4 | tasiilaq\n",
      "Processing Record 39 of Set 4 | vestmannaeyjar\n",
      "Processing Record 40 of Set 4 | lavrentiya\n",
      "Processing Record 41 of Set 4 | kahului\n",
      "Processing Record 42 of Set 4 | thompson\n",
      "City not found. Skipping...\n",
      "Processing Record 43 of Set 4 | turukhansk\n",
      "City not found. Skipping...\n",
      "Processing Record 44 of Set 4 | dalby\n",
      "Processing Record 45 of Set 4 | takayama\n",
      "Processing Record 46 of Set 4 | opuwo\n",
      "Processing Record 47 of Set 4 | havelock\n",
      "Processing Record 48 of Set 4 | ossora\n",
      "Processing Record 49 of Set 4 | wau\n",
      "Processing Record 50 of Set 4 | xifeng\n",
      "Processing Record 1 of Set 5 | maryborough\n",
      "Processing Record 2 of Set 5 | sisimiut\n",
      "Processing Record 3 of Set 5 | valleyview\n",
      "Processing Record 4 of Set 5 | arraial do cabo\n",
      "Processing Record 5 of Set 5 | port blair\n",
      "Processing Record 6 of Set 5 | raton\n",
      "Processing Record 7 of Set 5 | eyl\n",
      "Processing Record 8 of Set 5 | esperance\n",
      "Processing Record 9 of Set 5 | narva-joesuu\n",
      "Processing Record 10 of Set 5 | escarcega\n",
      "Processing Record 11 of Set 5 | charters towers\n",
      "Processing Record 12 of Set 5 | northam\n",
      "Processing Record 13 of Set 5 | octeville\n",
      "Processing Record 14 of Set 5 | aksarka\n",
      "City not found. Skipping...\n",
      "Processing Record 15 of Set 5 | constitucion\n",
      "City not found. Skipping...\n",
      "City not found. Skipping...\n",
      "Processing Record 16 of Set 5 | nago\n",
      "Processing Record 17 of Set 5 | srednekolymsk\n",
      "Processing Record 18 of Set 5 | dundee\n",
      "Processing Record 19 of Set 5 | berlevag\n",
      "Processing Record 20 of Set 5 | mwinilunga\n",
      "City not found. Skipping...\n",
      "Processing Record 21 of Set 5 | lom sak\n",
      "City not found. Skipping...\n",
      "Processing Record 22 of Set 5 | bambanglipuro\n",
      "City not found. Skipping...\n",
      "Processing Record 23 of Set 5 | agadir\n",
      "Processing Record 24 of Set 5 | nome\n",
      "Processing Record 25 of Set 5 | havre-saint-pierre\n",
      "Processing Record 26 of Set 5 | hasaki\n",
      "Processing Record 27 of Set 5 | kayes\n",
      "Processing Record 28 of Set 5 | terrak\n",
      "Processing Record 29 of Set 5 | luderitz\n",
      "Processing Record 30 of Set 5 | lira\n",
      "Processing Record 31 of Set 5 | bonthe\n",
      "City not found. Skipping...\n",
      "Processing Record 32 of Set 5 | lyngseidet\n",
      "Processing Record 33 of Set 5 | rocha\n",
      "Processing Record 34 of Set 5 | lahij\n",
      "Processing Record 35 of Set 5 | behshahr\n",
      "Processing Record 36 of Set 5 | general salgado\n",
      "Processing Record 37 of Set 5 | katsuura\n",
      "Processing Record 38 of Set 5 | kindersley\n",
      "Processing Record 39 of Set 5 | havoysund\n",
      "City not found. Skipping...\n",
      "Processing Record 40 of Set 5 | manicore\n",
      "Processing Record 41 of Set 5 | samarai\n",
      "Processing Record 42 of Set 5 | mount isa\n",
      "Processing Record 43 of Set 5 | meulaboh\n",
      "City not found. Skipping...\n",
      "Processing Record 44 of Set 5 | grootfontein\n",
      "Processing Record 45 of Set 5 | taltal\n",
      "Processing Record 46 of Set 5 | fukue\n",
      "Processing Record 47 of Set 5 | eatonton\n",
      "Processing Record 48 of Set 5 | torbay\n",
      "Processing Record 49 of Set 5 | haines junction\n",
      "Processing Record 50 of Set 5 | cidreira\n",
      "Processing Record 1 of Set 6 | kungurtug\n",
      "Processing Record 2 of Set 6 | bonito\n",
      "Processing Record 3 of Set 6 | acapulco\n",
      "Processing Record 4 of Set 6 | shingu\n",
      "Processing Record 5 of Set 6 | bacungan\n",
      "Processing Record 6 of Set 6 | pampa\n",
      "Processing Record 7 of Set 6 | codajas\n",
      "Processing Record 8 of Set 6 | nizhnevartovsk\n",
      "Processing Record 9 of Set 6 | pentecoste\n",
      "City not found. Skipping...\n",
      "Processing Record 10 of Set 6 | singaraja\n",
      "Processing Record 11 of Set 6 | khatanga\n",
      "City not found. Skipping...\n",
      "Processing Record 12 of Set 6 | grand gaube\n",
      "City not found. Skipping...\n",
      "Processing Record 13 of Set 6 | vieux-habitants\n",
      "Processing Record 14 of Set 6 | mildura\n",
      "Processing Record 15 of Set 6 | cravo norte\n",
      "Processing Record 16 of Set 6 | dhidhdhoo\n",
      "Processing Record 17 of Set 6 | lagoa\n",
      "Processing Record 18 of Set 6 | nanortalik\n",
      "Processing Record 19 of Set 6 | lengshuitan\n",
      "Processing Record 20 of Set 6 | aklavik\n",
      "Processing Record 21 of Set 6 | dicabisagan\n",
      "Processing Record 22 of Set 6 | gamba\n",
      "Processing Record 23 of Set 6 | mariel\n",
      "Processing Record 24 of Set 6 | isangel\n",
      "Processing Record 25 of Set 6 | groningen\n",
      "Processing Record 26 of Set 6 | dzhebariki-khaya\n",
      "City not found. Skipping...\n",
      "Processing Record 27 of Set 6 | yeniseysk\n",
      "Processing Record 28 of Set 6 | saint-francois\n",
      "Processing Record 29 of Set 6 | gurupa\n",
      "Processing Record 30 of Set 6 | bar harbor\n",
      "Processing Record 31 of Set 6 | victoria\n",
      "Processing Record 32 of Set 6 | belyye berega\n",
      "Processing Record 33 of Set 6 | seoul\n",
      "Processing Record 34 of Set 6 | tuatapere\n",
      "Processing Record 35 of Set 6 | los algarrobos\n",
      "Processing Record 36 of Set 6 | palmerston\n",
      "Processing Record 37 of Set 6 | iralaya\n",
      "Processing Record 38 of Set 6 | kloulklubed\n",
      "Processing Record 39 of Set 6 | split\n",
      "Processing Record 40 of Set 6 | eureka\n",
      "Processing Record 41 of Set 6 | savalou\n",
      "Processing Record 42 of Set 6 | jijiga\n",
      "Processing Record 43 of Set 6 | zhuhai\n",
      "Processing Record 44 of Set 6 | huarmey\n",
      "Processing Record 45 of Set 6 | mayo\n",
      "City not found. Skipping...\n",
      "Processing Record 46 of Set 6 | cleveland\n",
      "Processing Record 47 of Set 6 | atikokan\n",
      "Processing Record 48 of Set 6 | povenets\n",
      "Processing Record 49 of Set 6 | port lincoln\n",
      "Processing Record 50 of Set 6 | lebu\n",
      "Processing Record 1 of Set 7 | pacifica\n",
      "Processing Record 2 of Set 7 | gualaquiza\n",
      "Processing Record 3 of Set 7 | ketchikan\n",
      "Processing Record 4 of Set 7 | saskylakh\n",
      "Processing Record 5 of Set 7 | kisangani\n",
      "Processing Record 6 of Set 7 | sorsk\n",
      "Processing Record 7 of Set 7 | lompoc\n",
      "Processing Record 8 of Set 7 | henties bay\n",
      "Processing Record 9 of Set 7 | natal\n",
      "Processing Record 10 of Set 7 | inuvik\n",
      "Processing Record 11 of Set 7 | sao joao da barra\n",
      "Processing Record 12 of Set 7 | abashiri\n",
      "Processing Record 13 of Set 7 | vaniyambadi\n",
      "Processing Record 14 of Set 7 | raudeberg\n",
      "Processing Record 15 of Set 7 | rosarito\n",
      "Processing Record 16 of Set 7 | kijang\n",
      "Processing Record 17 of Set 7 | kamyshevatskaya\n",
      "Processing Record 18 of Set 7 | wanning\n",
      "City not found. Skipping...\n",
      "Processing Record 19 of Set 7 | korablino\n",
      "Processing Record 20 of Set 7 | bardiyah\n",
      "Processing Record 21 of Set 7 | bandarbeyla\n",
      "Processing Record 22 of Set 7 | acarau\n",
      "Processing Record 23 of Set 7 | elk river\n",
      "Processing Record 24 of Set 7 | kalmunai\n",
      "Processing Record 25 of Set 7 | maketu\n",
      "Processing Record 26 of Set 7 | lata\n",
      "Processing Record 27 of Set 7 | malkara\n",
      "Processing Record 28 of Set 7 | namibe\n",
      "Processing Record 29 of Set 7 | houma\n",
      "Processing Record 30 of Set 7 | bud\n",
      "Processing Record 31 of Set 7 | mount gambier\n",
      "Processing Record 32 of Set 7 | galesong\n",
      "City not found. Skipping...\n",
      "Processing Record 33 of Set 7 | tessalit\n",
      "Processing Record 34 of Set 7 | nishihara\n",
      "Processing Record 35 of Set 7 | korocha\n",
      "Processing Record 36 of Set 7 | prince rupert\n",
      "Processing Record 37 of Set 7 | vanderhoof\n",
      "Processing Record 38 of Set 7 | makakilo city\n",
      "Processing Record 39 of Set 7 | suhbaatar\n",
      "Processing Record 40 of Set 7 | rio grande\n",
      "Processing Record 41 of Set 7 | smithers\n",
      "City not found. Skipping...\n",
      "Processing Record 42 of Set 7 | ostrovnoy\n",
      "Processing Record 43 of Set 7 | koupela\n",
      "Processing Record 44 of Set 7 | makokou\n",
      "Processing Record 45 of Set 7 | bahawalpur\n",
      "Processing Record 46 of Set 7 | cherskiy\n",
      "Processing Record 47 of Set 7 | lingao\n",
      "Processing Record 48 of Set 7 | iracoubo\n",
      "Processing Record 49 of Set 7 | yining\n",
      "Processing Record 50 of Set 7 | geraldton\n",
      "Processing Record 1 of Set 8 | borovoy\n",
      "Processing Record 2 of Set 8 | mackay\n",
      "Processing Record 3 of Set 8 | qom\n",
      "Processing Record 4 of Set 8 | tingo maria\n",
      "Processing Record 5 of Set 8 | hami\n",
      "Processing Record 6 of Set 8 | vinukonda\n",
      "Processing Record 7 of Set 8 | vila franca do campo\n",
      "Processing Record 8 of Set 8 | that phanom\n",
      "Processing Record 9 of Set 8 | rafai\n",
      "Processing Record 10 of Set 8 | manokwari\n",
      "Processing Record 11 of Set 8 | caravelas\n",
      "City not found. Skipping...\n",
      "Processing Record 12 of Set 8 | shu\n",
      "Processing Record 13 of Set 8 | pokhara\n",
      "Processing Record 14 of Set 8 | plettenberg bay\n",
      "Processing Record 15 of Set 8 | vetluzhskiy\n",
      "Processing Record 16 of Set 8 | ciudad bolivar\n",
      "Processing Record 17 of Set 8 | saldanha\n",
      "Processing Record 18 of Set 8 | luanda\n",
      "Processing Record 19 of Set 8 | sorland\n"
     ]
    },
    {
     "name": "stdout",
     "output_type": "stream",
     "text": [
      "Processing Record 20 of Set 8 | guanica\n",
      "Processing Record 21 of Set 8 | odweyne\n",
      "Processing Record 22 of Set 8 | broome\n",
      "Processing Record 23 of Set 8 | naryan-mar\n",
      "Processing Record 24 of Set 8 | pisco\n",
      "Processing Record 25 of Set 8 | ancud\n",
      "Processing Record 26 of Set 8 | yar-sale\n",
      "Processing Record 27 of Set 8 | tonekabon\n",
      "Processing Record 28 of Set 8 | shimanovsk\n",
      "Processing Record 29 of Set 8 | hofn\n",
      "City not found. Skipping...\n",
      "Processing Record 30 of Set 8 | yerbogachen\n",
      "Processing Record 31 of Set 8 | naze\n",
      "Processing Record 32 of Set 8 | tarpon springs\n",
      "Processing Record 33 of Set 8 | taksimo\n",
      "Processing Record 34 of Set 8 | deputatskiy\n",
      "Processing Record 35 of Set 8 | saint-leu\n",
      "Processing Record 36 of Set 8 | ambon\n",
      "Processing Record 37 of Set 8 | wasilla\n",
      "Processing Record 38 of Set 8 | kupang\n",
      "Processing Record 39 of Set 8 | te anau\n",
      "Processing Record 40 of Set 8 | lugo\n",
      "Processing Record 41 of Set 8 | vryheid\n",
      "Processing Record 42 of Set 8 | tazovskiy\n",
      "Processing Record 43 of Set 8 | port hardy\n",
      "Processing Record 44 of Set 8 | gisborne\n",
      "Processing Record 45 of Set 8 | gobabis\n",
      "Processing Record 46 of Set 8 | juruti\n",
      "Processing Record 47 of Set 8 | pangnirtung\n",
      "Processing Record 48 of Set 8 | vardo\n",
      "Processing Record 49 of Set 8 | sandy bay\n",
      "Processing Record 50 of Set 8 | newala\n",
      "Processing Record 1 of Set 9 | sola\n",
      "Processing Record 2 of Set 9 | jizan\n",
      "City not found. Skipping...\n",
      "Processing Record 3 of Set 9 | kawalu\n",
      "Processing Record 4 of Set 9 | mehamn\n",
      "City not found. Skipping...\n",
      "Processing Record 5 of Set 9 | olafsvik\n",
      "Processing Record 6 of Set 9 | muzhi\n",
      "City not found. Skipping...\n",
      "Processing Record 7 of Set 9 | besuki\n",
      "Processing Record 8 of Set 9 | lucapa\n",
      "Processing Record 9 of Set 9 | tongchuan\n",
      "Processing Record 10 of Set 9 | ouesso\n",
      "Processing Record 11 of Set 9 | clyde river\n",
      "Processing Record 12 of Set 9 | ilebo\n",
      "Processing Record 13 of Set 9 | ravar\n",
      "Processing Record 14 of Set 9 | erenhot\n",
      "Processing Record 15 of Set 9 | ust-ilimsk\n",
      "City not found. Skipping...\n",
      "Processing Record 16 of Set 9 | linguere\n",
      "Processing Record 17 of Set 9 | marystown\n",
      "Processing Record 18 of Set 9 | puerto penasco\n",
      "Processing Record 19 of Set 9 | hualmay\n",
      "Processing Record 20 of Set 9 | matara\n",
      "Processing Record 21 of Set 9 | teguise\n",
      "Processing Record 22 of Set 9 | shama\n",
      "Processing Record 23 of Set 9 | karratha\n",
      "Processing Record 24 of Set 9 | awjilah\n",
      "Processing Record 25 of Set 9 | kailua\n",
      "Processing Record 26 of Set 9 | san felipe\n",
      "Processing Record 27 of Set 9 | sioux lookout\n",
      "Processing Record 28 of Set 9 | ixtapa\n",
      "Processing Record 29 of Set 9 | gornopravdinsk\n",
      "Processing Record 30 of Set 9 | abu dhabi\n",
      "Processing Record 31 of Set 9 | tukrah\n",
      "Processing Record 32 of Set 9 | hambantota\n",
      "Processing Record 33 of Set 9 | evensk\n",
      "City not found. Skipping...\n",
      "Processing Record 34 of Set 9 | bhainsdehi\n",
      "City not found. Skipping...\n",
      "Processing Record 35 of Set 9 | pacific grove\n",
      "Processing Record 36 of Set 9 | bonnyville\n",
      "Processing Record 37 of Set 9 | florianopolis\n",
      "Processing Record 38 of Set 9 | buin\n",
      "Processing Record 39 of Set 9 | fochville\n",
      "Processing Record 40 of Set 9 | sudzha\n",
      "Processing Record 41 of Set 9 | khilok\n",
      "Processing Record 42 of Set 9 | davila\n",
      "Processing Record 43 of Set 9 | gwadar\n",
      "Processing Record 44 of Set 9 | ayan\n",
      "Processing Record 45 of Set 9 | banff\n",
      "Processing Record 46 of Set 9 | chioggia\n",
      "Processing Record 47 of Set 9 | yarmouth\n",
      "Processing Record 48 of Set 9 | kashi\n",
      "Processing Record 49 of Set 9 | saint anthony\n",
      "Processing Record 50 of Set 9 | mamallapuram\n",
      "Processing Record 1 of Set 10 | alyangula\n",
      "Processing Record 2 of Set 10 | usinsk\n",
      "Processing Record 3 of Set 10 | awbari\n",
      "Processing Record 4 of Set 10 | ceres\n",
      "Processing Record 5 of Set 10 | menongue\n",
      "Processing Record 6 of Set 10 | sao jose da coroa grande\n",
      "Processing Record 7 of Set 10 | severo-yeniseyskiy\n",
      "Processing Record 8 of Set 10 | longido\n",
      "Processing Record 9 of Set 10 | cap malheureux\n",
      "Processing Record 10 of Set 10 | bayir\n",
      "Processing Record 11 of Set 10 | padang\n",
      "Processing Record 12 of Set 10 | lubango\n",
      "Processing Record 13 of Set 10 | neryungri\n",
      "Processing Record 14 of Set 10 | san patricio\n",
      "Processing Record 15 of Set 10 | cabo san lucas\n",
      "Processing Record 16 of Set 10 | los llanos de aridane\n",
      "Processing Record 17 of Set 10 | keflavik\n",
      "Processing Record 18 of Set 10 | ulaanbaatar\n",
      "City not found. Skipping...\n",
      "Processing Record 19 of Set 10 | novo oriente\n",
      "Processing Record 20 of Set 10 | goure\n",
      "City not found. Skipping...\n",
      "Processing Record 21 of Set 10 | keti bandar\n",
      "Processing Record 22 of Set 10 | araouane\n",
      "Processing Record 23 of Set 10 | anadyr\n",
      "Processing Record 24 of Set 10 | tooele\n",
      "Processing Record 25 of Set 10 | archdale\n",
      "Processing Record 26 of Set 10 | salym\n",
      "Processing Record 27 of Set 10 | jingdezhen\n",
      "Processing Record 28 of Set 10 | portland\n",
      "Processing Record 29 of Set 10 | am timan\n",
      "Processing Record 30 of Set 10 | tagab\n",
      "Processing Record 31 of Set 10 | fortuna\n",
      "Processing Record 32 of Set 10 | bethanien\n",
      "Processing Record 33 of Set 10 | fort nelson\n",
      "Processing Record 34 of Set 10 | baruun-urt\n",
      "Processing Record 35 of Set 10 | portel\n",
      "Processing Record 36 of Set 10 | adana\n",
      "Processing Record 37 of Set 10 | omsukchan\n",
      "Processing Record 38 of Set 10 | camalu\n",
      "City not found. Skipping...\n",
      "Processing Record 39 of Set 10 | kieta\n",
      "Processing Record 40 of Set 10 | morag\n",
      "Processing Record 41 of Set 10 | smidovich\n",
      "City not found. Skipping...\n",
      "Processing Record 42 of Set 10 | pathein\n",
      "Processing Record 43 of Set 10 | flin flon\n",
      "Processing Record 44 of Set 10 | richards bay\n",
      "Processing Record 45 of Set 10 | kharan\n",
      "Processing Record 46 of Set 10 | soyo\n",
      "Processing Record 47 of Set 10 | la asuncion\n",
      "City not found. Skipping...\n",
      "Processing Record 48 of Set 10 | oussouye\n",
      "Processing Record 49 of Set 10 | japura\n",
      "Processing Record 50 of Set 10 | alofi\n",
      "Processing Record 1 of Set 11 | ngunguru\n",
      "Processing Record 2 of Set 11 | linhares\n",
      "Processing Record 3 of Set 11 | bekobod\n",
      "Processing Record 4 of Set 11 | trairi\n",
      "Processing Record 5 of Set 11 | rapid valley\n",
      "Processing Record 6 of Set 11 | fitchburg\n",
      "Processing Record 7 of Set 11 | saint-louis\n",
      "Processing Record 8 of Set 11 | husavik\n",
      "Processing Record 9 of Set 11 | badarwas\n",
      "Processing Record 10 of Set 11 | inirida\n",
      "Processing Record 11 of Set 11 | almonte\n",
      "Processing Record 12 of Set 11 | ugoofaaru\n",
      "Processing Record 13 of Set 11 | tochigi\n",
      "Processing Record 14 of Set 11 | fremont\n",
      "Processing Record 15 of Set 11 | cao bang\n",
      "Processing Record 16 of Set 11 | mayahi\n",
      "Processing Record 17 of Set 11 | bathsheba\n",
      "Processing Record 18 of Set 11 | ballina\n",
      "Processing Record 19 of Set 11 | bubaque\n",
      "City not found. Skipping...\n",
      "Processing Record 20 of Set 11 | hovd\n",
      "Processing Record 21 of Set 11 | santiago\n",
      "Processing Record 22 of Set 11 | lively\n",
      "Processing Record 23 of Set 11 | chicla\n",
      "Processing Record 24 of Set 11 | popondetta\n",
      "Processing Record 25 of Set 11 | inverness\n",
      "Processing Record 26 of Set 11 | marawi\n",
      "Processing Record 27 of Set 11 | tres lagoas\n",
      "Processing Record 28 of Set 11 | klaksvik\n",
      "Processing Record 29 of Set 11 | sept-iles\n",
      "Processing Record 30 of Set 11 | santa cruz de tenerife\n",
      "Processing Record 31 of Set 11 | marquette\n",
      "Processing Record 32 of Set 11 | broken hill\n",
      "Processing Record 33 of Set 11 | santa rosa\n",
      "Processing Record 34 of Set 11 | kirakira\n",
      "Processing Record 35 of Set 11 | abu kamal\n",
      "City not found. Skipping...\n",
      "Processing Record 36 of Set 11 | trujillo\n",
      "Processing Record 37 of Set 11 | pechora\n",
      "Processing Record 38 of Set 11 | kristiansund\n",
      "Processing Record 39 of Set 11 | panguna\n",
      "Processing Record 40 of Set 11 | bauchi\n",
      "Processing Record 41 of Set 11 | sunbury\n",
      "Processing Record 42 of Set 11 | wexford\n",
      "Processing Record 43 of Set 11 | beringovskiy\n",
      "Processing Record 44 of Set 11 | aranos\n",
      "Processing Record 45 of Set 11 | arlit\n",
      "Processing Record 46 of Set 11 | ustye\n",
      "Processing Record 47 of Set 11 | tiznit\n",
      "Processing Record 48 of Set 11 | egvekinot\n",
      "Processing Record 49 of Set 11 | nova granada\n",
      "Processing Record 50 of Set 11 | maumere\n",
      "Processing Record 1 of Set 12 | saint george\n",
      "Processing Record 2 of Set 12 | sokolo\n",
      "Processing Record 3 of Set 12 | auki\n",
      "\n",
      "-----------------------------\n",
      "Data Retrieval Complete\n",
      "-----------------------------\n",
      "    \n"
     ]
    }
   ],
   "source": [
    "print(\"\"\"\n",
    "Beginning Data Retrieval\n",
    "-----------------------------\n",
    "    \"\"\")\n",
    "#set iterators for sets and records. there will be ten sets of fifty records to process.\n",
    "s = 1\n",
    "r = 0\n",
    "\n",
    "#create lists for saving output\n",
    "found_cities = []\n",
    "lats = []\n",
    "lngs = []\n",
    "max_temps = []\n",
    "humidities = []\n",
    "cloudiness = []\n",
    "wind_speeds = []\n",
    "countries = []\n",
    "dates = []\n",
    "\n",
    "#begin iterating through city list\n",
    "for city in cities:\n",
    "\n",
    "    \n",
    "    # query api for city\n",
    "    url = f'http://api.openweathermap.org/data/2.5/weather?q={city}&appid={weather_api_key}&units={units}'\n",
    "    response_json = requests.get(url).json()\n",
    "#     pp.pprint(response_json)\n",
    "    raw_df = response_json\n",
    "#     pp.pprint(raw_df)\n",
    "    \n",
    "    \n",
    "    try:\n",
    "        # save name, lat, long, max temp, humidity, cloudiness, wind speed, country, and date for each city\n",
    "        \n",
    "        lats.append(raw_df['coord']['lat'])\n",
    "        lngs.append(raw_df['coord']['lon'])\n",
    "        max_temps.append(raw_df['main']['temp_max'])        \n",
    "        humidities.append(raw_df['main']['humidity'])\n",
    "        cloudiness.append(raw_df['clouds']['all'])\n",
    "        wind_speeds.append(raw_df['wind']['speed'])\n",
    "        countries.append(raw_df['sys']['country'])\n",
    "        dates.append(raw_df['dt'])\n",
    "        found_cities.append(city)\n",
    "        \n",
    "        #check if 50 records have been processed and move to the next batch\n",
    "        if (r + 1) == 51:\n",
    "            r = 1\n",
    "            s += 1\n",
    "        else: \n",
    "            r += 1\n",
    "\n",
    "        print(f'Processing Record {r} of Set {s} | {city}')\n",
    "        \n",
    "    except KeyError:\n",
    "        \n",
    "        print(\"City not found. Skipping...\")     \n",
    "        \n",
    "print(\"\"\"\n",
    "-----------------------------\n",
    "Data Retrieval Complete\n",
    "-----------------------------\n",
    "    \"\"\")"
   ]
  },
  {
   "cell_type": "markdown",
   "metadata": {},
   "source": [
    "### Convert Raw Data to DataFrame\n",
    "* Export the city data into a .csv.\n",
    "* Display the DataFrame"
   ]
  },
  {
   "cell_type": "code",
   "execution_count": 12,
   "metadata": {},
   "outputs": [
    {
     "name": "stdout",
     "output_type": "stream",
     "text": [
      "\n",
      "cities: 608\n",
      "found_cities: 553\n",
      "lats: 553\n",
      "longs: 553\n",
      "temps: 553\n",
      "humidities: 553\n",
      "clouds: 553\n",
      "speeds: 553\n",
      "countries: 553\n",
      "dates: 553\n",
      "\n"
     ]
    },
    {
     "data": {
      "text/html": [
       "<div>\n",
       "<style scoped>\n",
       "    .dataframe tbody tr th:only-of-type {\n",
       "        vertical-align: middle;\n",
       "    }\n",
       "\n",
       "    .dataframe tbody tr th {\n",
       "        vertical-align: top;\n",
       "    }\n",
       "\n",
       "    .dataframe thead th {\n",
       "        text-align: right;\n",
       "    }\n",
       "</style>\n",
       "<table border=\"1\" class=\"dataframe\">\n",
       "  <thead>\n",
       "    <tr style=\"text-align: right;\">\n",
       "      <th></th>\n",
       "      <th>City</th>\n",
       "      <th>Lat</th>\n",
       "      <th>Lng</th>\n",
       "      <th>Max Temp</th>\n",
       "      <th>Humidity</th>\n",
       "      <th>Cloudiness</th>\n",
       "      <th>Wind Speed</th>\n",
       "      <th>Country</th>\n",
       "      <th>Date</th>\n",
       "    </tr>\n",
       "  </thead>\n",
       "  <tbody>\n",
       "    <tr>\n",
       "      <th>0</th>\n",
       "      <td>dikson</td>\n",
       "      <td>73.5069</td>\n",
       "      <td>80.5464</td>\n",
       "      <td>-27.27</td>\n",
       "      <td>87</td>\n",
       "      <td>91</td>\n",
       "      <td>10.29</td>\n",
       "      <td>RU</td>\n",
       "      <td>1612681763</td>\n",
       "    </tr>\n",
       "    <tr>\n",
       "      <th>1</th>\n",
       "      <td>olinda</td>\n",
       "      <td>-8.0089</td>\n",
       "      <td>-34.8553</td>\n",
       "      <td>75.20</td>\n",
       "      <td>83</td>\n",
       "      <td>40</td>\n",
       "      <td>3.44</td>\n",
       "      <td>BR</td>\n",
       "      <td>1612681675</td>\n",
       "    </tr>\n",
       "    <tr>\n",
       "      <th>2</th>\n",
       "      <td>hun</td>\n",
       "      <td>29.1268</td>\n",
       "      <td>15.9477</td>\n",
       "      <td>63.77</td>\n",
       "      <td>28</td>\n",
       "      <td>100</td>\n",
       "      <td>10.04</td>\n",
       "      <td>LY</td>\n",
       "      <td>1612681763</td>\n",
       "    </tr>\n",
       "    <tr>\n",
       "      <th>3</th>\n",
       "      <td>aripuana</td>\n",
       "      <td>-9.1667</td>\n",
       "      <td>-60.6333</td>\n",
       "      <td>72.45</td>\n",
       "      <td>99</td>\n",
       "      <td>100</td>\n",
       "      <td>2.01</td>\n",
       "      <td>BR</td>\n",
       "      <td>1612681747</td>\n",
       "    </tr>\n",
       "    <tr>\n",
       "      <th>4</th>\n",
       "      <td>valdivia</td>\n",
       "      <td>-39.8142</td>\n",
       "      <td>-73.2459</td>\n",
       "      <td>57.20</td>\n",
       "      <td>94</td>\n",
       "      <td>90</td>\n",
       "      <td>4.61</td>\n",
       "      <td>CL</td>\n",
       "      <td>1612681763</td>\n",
       "    </tr>\n",
       "  </tbody>\n",
       "</table>\n",
       "</div>"
      ],
      "text/plain": [
       "       City      Lat      Lng  Max Temp  Humidity  Cloudiness  Wind Speed  \\\n",
       "0    dikson  73.5069  80.5464    -27.27        87          91       10.29   \n",
       "1    olinda  -8.0089 -34.8553     75.20        83          40        3.44   \n",
       "2       hun  29.1268  15.9477     63.77        28         100       10.04   \n",
       "3  aripuana  -9.1667 -60.6333     72.45        99         100        2.01   \n",
       "4  valdivia -39.8142 -73.2459     57.20        94          90        4.61   \n",
       "\n",
       "  Country        Date  \n",
       "0      RU  1612681763  \n",
       "1      BR  1612681675  \n",
       "2      LY  1612681763  \n",
       "3      BR  1612681747  \n",
       "4      CL  1612681763  "
      ]
     },
     "execution_count": 12,
     "metadata": {},
     "output_type": "execute_result"
    }
   ],
   "source": [
    "#check lengths of arrays\n",
    "print(f'''\n",
    "cities: {len(cities)}\n",
    "found_cities: {len(found_cities)}\n",
    "lats: {len(lats)}\n",
    "longs: {len(lngs)}\n",
    "temps: {len(max_temps)}\n",
    "humidities: {len(humidities)}\n",
    "clouds: {len(cloudiness)}\n",
    "speeds: {len(wind_speeds)}\n",
    "countries: {len(countries)}\n",
    "dates: {len(dates)}\n",
    "''')\n",
    "\n",
    "#prepare dict for dataframe from lists created with api\n",
    "prep_df = {\n",
    "    'City':found_cities,\n",
    "    'Lat':lats,\n",
    "    'Lng':lngs,\n",
    "    'Max Temp':max_temps,\n",
    "    'Humidity':humidities,\n",
    "    'Cloudiness':cloudiness,\n",
    "    'Wind Speed':wind_speeds, \n",
    "    'Country':countries,\n",
    "    'Date':dates\n",
    "}\n",
    "\n",
    "#create dataframe\n",
    "city_data = pd.DataFrame(prep_df)\n",
    "\n",
    "#export to csv\n",
    "city_data.to_csv(output_data_file, index_label='City ID')\n",
    "city_data.head()"
   ]
  },
  {
   "cell_type": "code",
   "execution_count": 6,
   "metadata": {},
   "outputs": [
    {
     "data": {
      "text/html": [
       "<div>\n",
       "<style scoped>\n",
       "    .dataframe tbody tr th:only-of-type {\n",
       "        vertical-align: middle;\n",
       "    }\n",
       "\n",
       "    .dataframe tbody tr th {\n",
       "        vertical-align: top;\n",
       "    }\n",
       "\n",
       "    .dataframe thead th {\n",
       "        text-align: right;\n",
       "    }\n",
       "</style>\n",
       "<table border=\"1\" class=\"dataframe\">\n",
       "  <thead>\n",
       "    <tr style=\"text-align: right;\">\n",
       "      <th></th>\n",
       "      <th>City ID</th>\n",
       "      <th>Lat</th>\n",
       "      <th>Lng</th>\n",
       "      <th>Max Temp</th>\n",
       "      <th>Humidity</th>\n",
       "      <th>Cloudiness</th>\n",
       "      <th>Wind Speed</th>\n",
       "      <th>Date</th>\n",
       "    </tr>\n",
       "  </thead>\n",
       "  <tbody>\n",
       "    <tr>\n",
       "      <th>count</th>\n",
       "      <td>553.000000</td>\n",
       "      <td>553.000000</td>\n",
       "      <td>553.000000</td>\n",
       "      <td>553.000000</td>\n",
       "      <td>553.000000</td>\n",
       "      <td>553.000000</td>\n",
       "      <td>553.000000</td>\n",
       "      <td>5.530000e+02</td>\n",
       "    </tr>\n",
       "    <tr>\n",
       "      <th>mean</th>\n",
       "      <td>276.000000</td>\n",
       "      <td>20.459008</td>\n",
       "      <td>17.983490</td>\n",
       "      <td>49.439222</td>\n",
       "      <td>72.321881</td>\n",
       "      <td>53.077758</td>\n",
       "      <td>8.373092</td>\n",
       "      <td>1.612682e+09</td>\n",
       "    </tr>\n",
       "    <tr>\n",
       "      <th>std</th>\n",
       "      <td>159.781622</td>\n",
       "      <td>33.404818</td>\n",
       "      <td>91.694784</td>\n",
       "      <td>33.327283</td>\n",
       "      <td>20.649276</td>\n",
       "      <td>41.011037</td>\n",
       "      <td>6.027958</td>\n",
       "      <td>9.493706e+01</td>\n",
       "    </tr>\n",
       "    <tr>\n",
       "      <th>min</th>\n",
       "      <td>0.000000</td>\n",
       "      <td>-54.800000</td>\n",
       "      <td>-179.166700</td>\n",
       "      <td>-43.010000</td>\n",
       "      <td>9.000000</td>\n",
       "      <td>0.000000</td>\n",
       "      <td>0.200000</td>\n",
       "      <td>1.612681e+09</td>\n",
       "    </tr>\n",
       "    <tr>\n",
       "      <th>25%</th>\n",
       "      <td>138.000000</td>\n",
       "      <td>-7.381700</td>\n",
       "      <td>-63.549700</td>\n",
       "      <td>28.400000</td>\n",
       "      <td>62.000000</td>\n",
       "      <td>2.000000</td>\n",
       "      <td>4.000000</td>\n",
       "      <td>1.612682e+09</td>\n",
       "    </tr>\n",
       "    <tr>\n",
       "      <th>50%</th>\n",
       "      <td>276.000000</td>\n",
       "      <td>22.678300</td>\n",
       "      <td>20.282700</td>\n",
       "      <td>62.470000</td>\n",
       "      <td>78.000000</td>\n",
       "      <td>64.000000</td>\n",
       "      <td>7.000000</td>\n",
       "      <td>1.612682e+09</td>\n",
       "    </tr>\n",
       "    <tr>\n",
       "      <th>75%</th>\n",
       "      <td>414.000000</td>\n",
       "      <td>50.200100</td>\n",
       "      <td>97.522800</td>\n",
       "      <td>75.270000</td>\n",
       "      <td>88.000000</td>\n",
       "      <td>96.000000</td>\n",
       "      <td>11.180000</td>\n",
       "      <td>1.612682e+09</td>\n",
       "    </tr>\n",
       "    <tr>\n",
       "      <th>max</th>\n",
       "      <td>552.000000</td>\n",
       "      <td>78.218600</td>\n",
       "      <td>179.316700</td>\n",
       "      <td>95.000000</td>\n",
       "      <td>100.000000</td>\n",
       "      <td>100.000000</td>\n",
       "      <td>36.150000</td>\n",
       "      <td>1.612682e+09</td>\n",
       "    </tr>\n",
       "  </tbody>\n",
       "</table>\n",
       "</div>"
      ],
      "text/plain": [
       "          City ID         Lat         Lng    Max Temp    Humidity  Cloudiness  \\\n",
       "count  553.000000  553.000000  553.000000  553.000000  553.000000  553.000000   \n",
       "mean   276.000000   20.459008   17.983490   49.439222   72.321881   53.077758   \n",
       "std    159.781622   33.404818   91.694784   33.327283   20.649276   41.011037   \n",
       "min      0.000000  -54.800000 -179.166700  -43.010000    9.000000    0.000000   \n",
       "25%    138.000000   -7.381700  -63.549700   28.400000   62.000000    2.000000   \n",
       "50%    276.000000   22.678300   20.282700   62.470000   78.000000   64.000000   \n",
       "75%    414.000000   50.200100   97.522800   75.270000   88.000000   96.000000   \n",
       "max    552.000000   78.218600  179.316700   95.000000  100.000000  100.000000   \n",
       "\n",
       "       Wind Speed          Date  \n",
       "count  553.000000  5.530000e+02  \n",
       "mean     8.373092  1.612682e+09  \n",
       "std      6.027958  9.493706e+01  \n",
       "min      0.200000  1.612681e+09  \n",
       "25%      4.000000  1.612682e+09  \n",
       "50%      7.000000  1.612682e+09  \n",
       "75%     11.180000  1.612682e+09  \n",
       "max     36.150000  1.612682e+09  "
      ]
     },
     "execution_count": 6,
     "metadata": {},
     "output_type": "execute_result"
    }
   ],
   "source": [
    "### change this later so it uses the data created from the api.\n",
    "\n",
    "city_csv = output_data_file\n",
    "city_data = pd.read_csv(city_csv)\n",
    "city_data.head()\n",
    "\n",
    "# describe city_data\n",
    "city_data.describe()"
   ]
  },
  {
   "cell_type": "markdown",
   "metadata": {},
   "source": [
    "## Inspect the data and remove the cities where the humidity > 100%.\n",
    "----\n",
    "Skip this step if there are no cities that have humidity > 100%. "
   ]
  },
  {
   "cell_type": "code",
   "execution_count": 6,
   "metadata": {},
   "outputs": [
    {
     "data": {
      "text/html": [
       "<div>\n",
       "<style scoped>\n",
       "    .dataframe tbody tr th:only-of-type {\n",
       "        vertical-align: middle;\n",
       "    }\n",
       "\n",
       "    .dataframe tbody tr th {\n",
       "        vertical-align: top;\n",
       "    }\n",
       "\n",
       "    .dataframe thead th {\n",
       "        text-align: right;\n",
       "    }\n",
       "</style>\n",
       "<table border=\"1\" class=\"dataframe\">\n",
       "  <thead>\n",
       "    <tr style=\"text-align: right;\">\n",
       "      <th></th>\n",
       "      <th>Lat</th>\n",
       "      <th>Lng</th>\n",
       "      <th>Max Temp</th>\n",
       "      <th>Humidity</th>\n",
       "      <th>Cloudiness</th>\n",
       "      <th>Wind Speed</th>\n",
       "      <th>Date</th>\n",
       "    </tr>\n",
       "  </thead>\n",
       "  <tbody>\n",
       "    <tr>\n",
       "      <th>count</th>\n",
       "      <td>550.000000</td>\n",
       "      <td>550.000000</td>\n",
       "      <td>550.000000</td>\n",
       "      <td>550.000000</td>\n",
       "      <td>550.000000</td>\n",
       "      <td>550.000000</td>\n",
       "      <td>5.500000e+02</td>\n",
       "    </tr>\n",
       "    <tr>\n",
       "      <th>mean</th>\n",
       "      <td>19.973545</td>\n",
       "      <td>17.124400</td>\n",
       "      <td>58.331400</td>\n",
       "      <td>67.890909</td>\n",
       "      <td>52.141818</td>\n",
       "      <td>8.544800</td>\n",
       "      <td>1.585764e+09</td>\n",
       "    </tr>\n",
       "    <tr>\n",
       "      <th>std</th>\n",
       "      <td>33.284840</td>\n",
       "      <td>91.595451</td>\n",
       "      <td>25.795297</td>\n",
       "      <td>20.864881</td>\n",
       "      <td>35.766469</td>\n",
       "      <td>6.078869</td>\n",
       "      <td>5.539674e+01</td>\n",
       "    </tr>\n",
       "    <tr>\n",
       "      <th>min</th>\n",
       "      <td>-54.800000</td>\n",
       "      <td>-179.170000</td>\n",
       "      <td>-11.340000</td>\n",
       "      <td>9.000000</td>\n",
       "      <td>0.000000</td>\n",
       "      <td>0.160000</td>\n",
       "      <td>1.585764e+09</td>\n",
       "    </tr>\n",
       "    <tr>\n",
       "      <th>25%</th>\n",
       "      <td>-8.077500</td>\n",
       "      <td>-64.627500</td>\n",
       "      <td>42.800000</td>\n",
       "      <td>55.000000</td>\n",
       "      <td>20.000000</td>\n",
       "      <td>4.525000</td>\n",
       "      <td>1.585764e+09</td>\n",
       "    </tr>\n",
       "    <tr>\n",
       "      <th>50%</th>\n",
       "      <td>23.630000</td>\n",
       "      <td>19.635000</td>\n",
       "      <td>64.940000</td>\n",
       "      <td>72.000000</td>\n",
       "      <td>57.000000</td>\n",
       "      <td>7.325000</td>\n",
       "      <td>1.585764e+09</td>\n",
       "    </tr>\n",
       "    <tr>\n",
       "      <th>75%</th>\n",
       "      <td>48.672500</td>\n",
       "      <td>97.350000</td>\n",
       "      <td>78.800000</td>\n",
       "      <td>83.000000</td>\n",
       "      <td>86.750000</td>\n",
       "      <td>11.410000</td>\n",
       "      <td>1.585764e+09</td>\n",
       "    </tr>\n",
       "    <tr>\n",
       "      <th>max</th>\n",
       "      <td>78.220000</td>\n",
       "      <td>179.320000</td>\n",
       "      <td>102.200000</td>\n",
       "      <td>100.000000</td>\n",
       "      <td>100.000000</td>\n",
       "      <td>46.080000</td>\n",
       "      <td>1.585764e+09</td>\n",
       "    </tr>\n",
       "  </tbody>\n",
       "</table>\n",
       "</div>"
      ],
      "text/plain": [
       "              Lat         Lng    Max Temp    Humidity  Cloudiness  Wind Speed  \\\n",
       "count  550.000000  550.000000  550.000000  550.000000  550.000000  550.000000   \n",
       "mean    19.973545   17.124400   58.331400   67.890909   52.141818    8.544800   \n",
       "std     33.284840   91.595451   25.795297   20.864881   35.766469    6.078869   \n",
       "min    -54.800000 -179.170000  -11.340000    9.000000    0.000000    0.160000   \n",
       "25%     -8.077500  -64.627500   42.800000   55.000000   20.000000    4.525000   \n",
       "50%     23.630000   19.635000   64.940000   72.000000   57.000000    7.325000   \n",
       "75%     48.672500   97.350000   78.800000   83.000000   86.750000   11.410000   \n",
       "max     78.220000  179.320000  102.200000  100.000000  100.000000   46.080000   \n",
       "\n",
       "               Date  \n",
       "count  5.500000e+02  \n",
       "mean   1.585764e+09  \n",
       "std    5.539674e+01  \n",
       "min    1.585764e+09  \n",
       "25%    1.585764e+09  \n",
       "50%    1.585764e+09  \n",
       "75%    1.585764e+09  \n",
       "max    1.585764e+09  "
      ]
     },
     "execution_count": 6,
     "metadata": {},
     "output_type": "execute_result"
    }
   ],
   "source": []
  },
  {
   "cell_type": "code",
   "execution_count": 17,
   "metadata": {},
   "outputs": [
    {
     "data": {
      "text/plain": [
       "Int64Index([], dtype='int64')"
      ]
     },
     "execution_count": 17,
     "metadata": {},
     "output_type": "execute_result"
    }
   ],
   "source": [
    "#  Get the indices of cities that have humidity over 100%.\n"
   ]
  },
  {
   "cell_type": "code",
   "execution_count": 19,
   "metadata": {},
   "outputs": [
    {
     "data": {
      "text/html": [
       "<div>\n",
       "<style scoped>\n",
       "    .dataframe tbody tr th:only-of-type {\n",
       "        vertical-align: middle;\n",
       "    }\n",
       "\n",
       "    .dataframe tbody tr th {\n",
       "        vertical-align: top;\n",
       "    }\n",
       "\n",
       "    .dataframe thead th {\n",
       "        text-align: right;\n",
       "    }\n",
       "</style>\n",
       "<table border=\"1\" class=\"dataframe\">\n",
       "  <thead>\n",
       "    <tr style=\"text-align: right;\">\n",
       "      <th></th>\n",
       "      <th>City</th>\n",
       "      <th>Lat</th>\n",
       "      <th>Lng</th>\n",
       "      <th>Max Temp</th>\n",
       "      <th>Humidity</th>\n",
       "      <th>Cloudiness</th>\n",
       "      <th>Wind Speed</th>\n",
       "      <th>Country</th>\n",
       "      <th>Date</th>\n",
       "    </tr>\n",
       "  </thead>\n",
       "  <tbody>\n",
       "    <tr>\n",
       "      <td>0</td>\n",
       "      <td>butaritari</td>\n",
       "      <td>3.07</td>\n",
       "      <td>172.79</td>\n",
       "      <td>83.32</td>\n",
       "      <td>74</td>\n",
       "      <td>84</td>\n",
       "      <td>10.42</td>\n",
       "      <td>KI</td>\n",
       "      <td>1593605283</td>\n",
       "    </tr>\n",
       "    <tr>\n",
       "      <td>1</td>\n",
       "      <td>yerbogachen</td>\n",
       "      <td>61.28</td>\n",
       "      <td>108.01</td>\n",
       "      <td>79.52</td>\n",
       "      <td>58</td>\n",
       "      <td>20</td>\n",
       "      <td>7.70</td>\n",
       "      <td>RU</td>\n",
       "      <td>1593605121</td>\n",
       "    </tr>\n",
       "    <tr>\n",
       "      <td>2</td>\n",
       "      <td>cape town</td>\n",
       "      <td>-33.93</td>\n",
       "      <td>18.42</td>\n",
       "      <td>73.00</td>\n",
       "      <td>77</td>\n",
       "      <td>27</td>\n",
       "      <td>4.70</td>\n",
       "      <td>ZA</td>\n",
       "      <td>1593605039</td>\n",
       "    </tr>\n",
       "    <tr>\n",
       "      <td>3</td>\n",
       "      <td>touba</td>\n",
       "      <td>8.28</td>\n",
       "      <td>-7.68</td>\n",
       "      <td>79.97</td>\n",
       "      <td>75</td>\n",
       "      <td>82</td>\n",
       "      <td>3.58</td>\n",
       "      <td>CI</td>\n",
       "      <td>1593605284</td>\n",
       "    </tr>\n",
       "    <tr>\n",
       "      <td>4</td>\n",
       "      <td>jamestown</td>\n",
       "      <td>42.10</td>\n",
       "      <td>-79.24</td>\n",
       "      <td>64.00</td>\n",
       "      <td>88</td>\n",
       "      <td>1</td>\n",
       "      <td>6.93</td>\n",
       "      <td>US</td>\n",
       "      <td>1593605284</td>\n",
       "    </tr>\n",
       "  </tbody>\n",
       "</table>\n",
       "</div>"
      ],
      "text/plain": [
       "          City    Lat     Lng  Max Temp  Humidity  Cloudiness  Wind Speed  \\\n",
       "0   butaritari   3.07  172.79     83.32        74          84       10.42   \n",
       "1  yerbogachen  61.28  108.01     79.52        58          20        7.70   \n",
       "2    cape town -33.93   18.42     73.00        77          27        4.70   \n",
       "3        touba   8.28   -7.68     79.97        75          82        3.58   \n",
       "4    jamestown  42.10  -79.24     64.00        88           1        6.93   \n",
       "\n",
       "  Country        Date  \n",
       "0      KI  1593605283  \n",
       "1      RU  1593605121  \n",
       "2      ZA  1593605039  \n",
       "3      CI  1593605284  \n",
       "4      US  1593605284  "
      ]
     },
     "execution_count": 19,
     "metadata": {},
     "output_type": "execute_result"
    }
   ],
   "source": [
    "# Make a new DataFrame equal to the city data to drop all humidity outliers by index.\n",
    "# Passing \"inplace=False\" will make a copy of the city_data DataFrame, which we call \"clean_city_data\".\n"
   ]
  },
  {
   "cell_type": "code",
   "execution_count": null,
   "metadata": {},
   "outputs": [],
   "source": [
    "\n"
   ]
  },
  {
   "cell_type": "markdown",
   "metadata": {},
   "source": [
    "## Plotting the Data\n",
    "* Use proper labeling of the plots using plot titles (including date of analysis) and axes labels.\n",
    "* Save the plotted figures as .pngs."
   ]
  },
  {
   "cell_type": "markdown",
   "metadata": {},
   "source": [
    "## Latitude vs. Temperature Plot"
   ]
  },
  {
   "cell_type": "code",
   "execution_count": 24,
   "metadata": {
    "scrolled": true
   },
   "outputs": [
    {
     "data": {
      "image/png": "[encoded data removed]",
      "text/plain": [
       "<Figure size 432x288 with 1 Axes>"
      ]
     },
     "metadata": {
      "needs_background": "light"
     },
     "output_type": "display_data"
    },
    {
     "name": "stdout",
     "output_type": "stream",
     "text": [
      "Put in sentences that describe what is being analyzed\n"
     ]
    }
   ],
   "source": [
    "#set up scatter plot\n",
    "x_values = city_data[\"Lat\"]\n",
    "y_values = city_data[\"Max Temp\"]\n",
    "plt.scatter(x_values,y_values,edgecolors=\"black\",facecolors=\"steelblue\")\n",
    "plt.title(f\"City Latitude vs. Temperature ({analysis_date})\")\n",
    "plt.xlabel('Latitude')\n",
    "plt.ylabel('Max Temperature (F)')\n",
    "plt.grid (b=True,which=\"major\",axis=\"both\",linestyle=\"-\",color=\"lightgrey\")\n",
    "plt.show()\n",
    "\n",
    "# describe what's happening\n",
    "print(f'Put in sentences that describe what is being analyzed')"
   ]
  },
  {
   "cell_type": "markdown",
   "metadata": {},
   "source": [
    "## Latitude vs. Humidity Plot"
   ]
  },
  {
   "cell_type": "code",
   "execution_count": 25,
   "metadata": {},
   "outputs": [
    {
     "data": {
      "image/png": "[encoded data removed]",
      "text/plain": [
       "<Figure size 432x288 with 1 Axes>"
      ]
     },
     "metadata": {
      "needs_background": "light"
     },
     "output_type": "display_data"
    },
    {
     "name": "stdout",
     "output_type": "stream",
     "text": [
      "Put in sentences that describe what is being analyzed\n"
     ]
    }
   ],
   "source": [
    "#set up scatter plot\n",
    "x_values = city_data[\"Lat\"]\n",
    "y_values = city_data[\"Humidity\"]\n",
    "plt.scatter(x_values,y_values,edgecolors=\"black\",facecolors=\"steelblue\")\n",
    "plt.title(f\"City Latitude vs. Humidity ({analysis_date})\")\n",
    "plt.xlabel('Latitude')\n",
    "plt.ylabel('Humidity (%)')\n",
    "plt.grid (b=True,which=\"major\",axis=\"both\",linestyle=\"-\",color=\"lightgrey\")\n",
    "plt.show()\n",
    "\n",
    "# describe what's happening\n",
    "print(f'Put in sentences that describe what is being analyzed')"
   ]
  },
  {
   "cell_type": "markdown",
   "metadata": {},
   "source": [
    "## Latitude vs. Cloudiness Plot"
   ]
  },
  {
   "cell_type": "code",
   "execution_count": 26,
   "metadata": {},
   "outputs": [
    {
     "data": {
      "image/png": "[encoded data removed]",
      "text/plain": [
       "<Figure size 432x288 with 1 Axes>"
      ]
     },
     "metadata": {
      "needs_background": "light"
     },
     "output_type": "display_data"
    },
    {
     "name": "stdout",
     "output_type": "stream",
     "text": [
      "Put in sentences that describe what is being analyzed\n"
     ]
    }
   ],
   "source": [
    "#set up scatter plot\n",
    "x_values = city_data[\"Lat\"]\n",
    "y_values = city_data[\"Cloudiness\"]\n",
    "plt.scatter(x_values,y_values,edgecolors=\"black\",facecolors=\"steelblue\")\n",
    "plt.title(f\"City Latitude vs. Cloudiness ({analysis_date})\")\n",
    "plt.xlabel('Latitude')\n",
    "plt.ylabel('Cloudiness (%)')\n",
    "plt.grid (b=True,which=\"major\",axis=\"both\",linestyle=\"-\",color=\"lightgrey\")\n",
    "plt.show()\n",
    "\n",
    "# describe what's happening\n",
    "print(f'Put in sentences that describe what is being analyzed')"
   ]
  },
  {
   "cell_type": "markdown",
   "metadata": {},
   "source": [
    "## Latitude vs. Wind Speed Plot"
   ]
  },
  {
   "cell_type": "code",
   "execution_count": 27,
   "metadata": {},
   "outputs": [
    {
     "data": {
      "image/png": "[encoded data removed]",
      "text/plain": [
       "<Figure size 432x288 with 1 Axes>"
      ]
     },
     "metadata": {
      "needs_background": "light"
     },
     "output_type": "display_data"
    },
    {
     "name": "stdout",
     "output_type": "stream",
     "text": [
      "Put in sentences that describe what is being analyzed\n"
     ]
    }
   ],
   "source": [
    "#set up scatter plot\n",
    "x_values = city_data[\"Lat\"]\n",
    "y_values = city_data[\"Wind Speed\"]\n",
    "plt.scatter(x_values,y_values,edgecolors=\"black\",facecolors=\"steelblue\")\n",
    "plt.title(f\"City Latitude vs. Wind Speed ({analysis_date})\")\n",
    "plt.xlabel('Latitude')\n",
    "plt.ylabel('Wind Speed (mph)')\n",
    "plt.grid (b=True,which=\"major\",axis=\"both\",linestyle=\"-\",color=\"lightgrey\")\n",
    "plt.show()\n",
    "\n",
    "# describe what's happening\n",
    "print(f'Put in sentences that describe what is being analyzed')"
   ]
  },
  {
   "cell_type": "markdown",
   "metadata": {},
   "source": [
    "## Linear Regression"
   ]
  },
  {
   "cell_type": "code",
   "execution_count": 35,
   "metadata": {},
   "outputs": [],
   "source": [
    "#get data for each hemisphere\n",
    "north = city_data.loc[city_data['Lat']>=0, :]\n",
    "# north.describe()\n",
    "\n",
    "south = city_data.loc[city_data['Lat']<0, :]\n",
    "# south.describe()"
   ]
  },
  {
   "cell_type": "markdown",
   "metadata": {},
   "source": [
    "### Max Temp vs. Latitude by Hemisphere"
   ]
  },
  {
   "cell_type": "markdown",
   "metadata": {},
   "source": [
    "####  Northern Hemisphere - Max Temp vs. Latitude Linear Regression"
   ]
  },
  {
   "cell_type": "code",
   "execution_count": 43,
   "metadata": {},
   "outputs": [
    {
     "name": "stdout",
     "output_type": "stream",
     "text": [
      "The r-vlaue is: -0.8611717644494633\n"
     ]
    },
    {
     "data": {
      "image/png": "[encoded data removed]",
      "text/plain": [
       "<Figure size 432x288 with 1 Axes>"
      ]
     },
     "metadata": {
      "needs_background": "light"
     },
     "output_type": "display_data"
    }
   ],
   "source": [
    "#set up scatter plot\n",
    "x_values = north[\"Lat\"]\n",
    "y_values = north[\"Max Temp\"]\n",
    "plt.scatter(x_values,y_values)\n",
    "plt.title(f\"City Latitude vs. Temperature ({analysis_date})\")\n",
    "plt.xlabel('Latitude')\n",
    "plt.ylabel('Max Temperature (F)')\n",
    "\n",
    "# linear regression\n",
    "(slope, intercept, rvalue, pvalue, stderr) = linregress(x_values, y_values)\n",
    "regress_values = x_values * slope + intercept\n",
    "line_eq = \"y = \" + str(round(slope,2)) + \"x + \" + str(round(intercept,2))\n",
    "print(f\"The r-vlaue is: {rvalue}\")\n",
    "plt.plot(x_values,regress_values,\"r-\")\n",
    "plt.annotate(line_eq,(5,-25),fontsize=15,color=\"red\")\n",
    "plt.show()"
   ]
  },
  {
   "cell_type": "markdown",
   "metadata": {},
   "source": [
    "####  Southern Hemisphere - Max Temp vs. Latitude Linear Regression"
   ]
  },
  {
   "cell_type": "code",
   "execution_count": 42,
   "metadata": {},
   "outputs": [
    {
     "name": "stdout",
     "output_type": "stream",
     "text": [
      "The r-vlaue is: 0.5332781819693206\n"
     ]
    },
    {
     "data": {
      "image/png": "[encoded data removed]",
      "text/plain": [
       "<Figure size 432x288 with 1 Axes>"
      ]
     },
     "metadata": {
      "needs_background": "light"
     },
     "output_type": "display_data"
    }
   ],
   "source": [
    "#set up scatter plot\n",
    "x_values = south[\"Lat\"]\n",
    "y_values = south[\"Max Temp\"]\n",
    "plt.scatter(x_values,y_values)\n",
    "plt.title(f\"City Latitude vs. Temperature ({analysis_date})\")\n",
    "plt.xlabel('Latitude')\n",
    "plt.ylabel('Max Temperature (F)')\n",
    "\n",
    "# linear regression\n",
    "(slope, intercept, rvalue, pvalue, stderr) = linregress(x_values, y_values)\n",
    "regress_values = x_values * slope + intercept\n",
    "line_eq = \"y = \" + str(round(slope,2)) + \"x + \" + str(round(intercept,2))\n",
    "print(f\"The r-vlaue is: {rvalue}\")\n",
    "plt.plot(x_values,regress_values,\"r-\")\n",
    "plt.annotate(line_eq,(-55,90),fontsize=15,color=\"red\")\n",
    "plt.show()"
   ]
  },
  {
   "cell_type": "markdown",
   "metadata": {},
   "source": [
    "<span style = \"color:red\"> *Description of what is being modeled in the plots above* </span>"
   ]
  },
  {
   "cell_type": "markdown",
   "metadata": {},
   "source": [
    "### Humidity (%) vs. Latitude by Hemisphere"
   ]
  },
  {
   "cell_type": "markdown",
   "metadata": {},
   "source": [
    "####  Northern Hemisphere - Humidity (%) vs. Latitude Linear Regression"
   ]
  },
  {
   "cell_type": "code",
   "execution_count": 47,
   "metadata": {},
   "outputs": [
    {
     "name": "stdout",
     "output_type": "stream",
     "text": [
      "The r-vlaue is: 0.41131413931246297\n"
     ]
    },
    {
     "data": {
      "image/png": "[encoded data removed]",
      "text/plain": [
       "<Figure size 432x288 with 1 Axes>"
      ]
     },
     "metadata": {
      "needs_background": "light"
     },
     "output_type": "display_data"
    }
   ],
   "source": [
    "#set up scatter plot\n",
    "x_values = north[\"Lat\"]\n",
    "y_values = north[\"Humidity\"]\n",
    "plt.scatter(x_values,y_values)\n",
    "plt.title(f\"City Latitude vs. Humidity ({analysis_date})\")\n",
    "plt.xlabel('Latitude')\n",
    "plt.ylabel('Humidity (%)')\n",
    "\n",
    "# linear regression\n",
    "(slope, intercept, rvalue, pvalue, stderr) = linregress(x_values, y_values)\n",
    "regress_values = x_values * slope + intercept\n",
    "line_eq = \"y = \" + str(round(slope,2)) + \"x + \" + str(round(intercept,2))\n",
    "print(f\"The r-vlaue is: {rvalue}\")\n",
    "plt.plot(x_values,regress_values,\"r-\")\n",
    "plt.annotate(line_eq,(45,20),fontsize=15,color=\"red\")\n",
    "plt.show()"
   ]
  },
  {
   "cell_type": "markdown",
   "metadata": {},
   "source": [
    "####  Southern Hemisphere - Humidity (%) vs. Latitude Linear Regression"
   ]
  },
  {
   "cell_type": "code",
   "execution_count": 50,
   "metadata": {},
   "outputs": [
    {
     "name": "stdout",
     "output_type": "stream",
     "text": [
      "The r-vlaue is: 0.22819543917593652\n"
     ]
    },
    {
     "data": {
      "image/png": "[encoded data removed]",
      "text/plain": [
       "<Figure size 432x288 with 1 Axes>"
      ]
     },
     "metadata": {
      "needs_background": "light"
     },
     "output_type": "display_data"
    }
   ],
   "source": [
    "#set up scatter plot\n",
    "x_values = south[\"Lat\"]\n",
    "y_values = south[\"Humidity\"]\n",
    "plt.scatter(x_values,y_values)\n",
    "plt.title(f\"City Latitude vs. Humidity ({analysis_date})\")\n",
    "plt.xlabel('Latitude')\n",
    "plt.ylabel('Humidity (%)')\n",
    "\n",
    "# linear regression\n",
    "(slope, intercept, rvalue, pvalue, stderr) = linregress(x_values, y_values)\n",
    "regress_values = x_values * slope + intercept\n",
    "line_eq = \"y = \" + str(round(slope,2)) + \"x + \" + str(round(intercept,2))\n",
    "print(f\"The r-vlaue is: {rvalue}\")\n",
    "plt.plot(x_values,regress_values,\"r-\")\n",
    "plt.annotate(line_eq,(-35,37),fontsize=15,color=\"red\")\n",
    "plt.show()"
   ]
  },
  {
   "cell_type": "markdown",
   "metadata": {},
   "source": [
    "<span style = \"color:red\"> *Description of what is being modeled in the plots above* </span>"
   ]
  },
  {
   "cell_type": "markdown",
   "metadata": {},
   "source": [
    "### Cloudiness (%) vs. Latitude by Hemisphere"
   ]
  },
  {
   "cell_type": "markdown",
   "metadata": {},
   "source": [
    "####  Northern Hemisphere - Cloudiness (%) vs. Latitude Linear Regression"
   ]
  },
  {
   "cell_type": "code",
   "execution_count": 57,
   "metadata": {},
   "outputs": [
    {
     "name": "stdout",
     "output_type": "stream",
     "text": [
      "The r-vlaue is: 0.18572265493711376\n"
     ]
    },
    {
     "data": {
      "image/png": "[encoded data removed]",
      "text/plain": [
       "<Figure size 432x288 with 1 Axes>"
      ]
     },
     "metadata": {
      "needs_background": "light"
     },
     "output_type": "display_data"
    }
   ],
   "source": [
    "#set up scatter plot\n",
    "x_values = north[\"Lat\"]\n",
    "y_values = north[\"Cloudiness\"]\n",
    "plt.scatter(x_values,y_values)\n",
    "plt.title(f\"City Latitude vs. Cloudiness ({analysis_date})\")\n",
    "plt.xlabel('Latitude')\n",
    "plt.ylabel('Cloudiness (%)')\n",
    "\n",
    "# linear regression\n",
    "(slope, intercept, rvalue, pvalue, stderr) = linregress(x_values, y_values)\n",
    "regress_values = x_values * slope + intercept\n",
    "line_eq = \"y = \" + str(round(slope,2)) + \"x + \" + str(round(intercept,2))\n",
    "print(f\"The r-vlaue is: {rvalue}\")\n",
    "plt.plot(x_values,regress_values,\"r-\")\n",
    "plt.annotate(line_eq,(40,10),fontsize=15,color=\"red\")\n",
    "plt.show()"
   ]
  },
  {
   "cell_type": "markdown",
   "metadata": {},
   "source": [
    "####  Southern Hemisphere - Cloudiness (%) vs. Latitude Linear Regression"
   ]
  },
  {
   "cell_type": "code",
   "execution_count": 60,
   "metadata": {},
   "outputs": [
    {
     "name": "stdout",
     "output_type": "stream",
     "text": [
      "The r-vlaue is: 0.33092446845221407\n"
     ]
    },
    {
     "data": {
      "image/png": "[encoded data removed]",
      "text/plain": [
       "<Figure size 432x288 with 1 Axes>"
      ]
     },
     "metadata": {
      "needs_background": "light"
     },
     "output_type": "display_data"
    }
   ],
   "source": [
    "#set up scatter plot\n",
    "x_values = south[\"Lat\"]\n",
    "y_values = south[\"Cloudiness\"]\n",
    "plt.scatter(x_values,y_values)\n",
    "plt.title(f\"City Latitude vs. Cloudiness ({analysis_date})\")\n",
    "plt.xlabel('Latitude')\n",
    "plt.ylabel('Cloudiness (%)')\n",
    "\n",
    "# linear regression\n",
    "(slope, intercept, rvalue, pvalue, stderr) = linregress(x_values, y_values)\n",
    "regress_values = x_values * slope + intercept\n",
    "line_eq = \"y = \" + str(round(slope,2)) + \"x + \" + str(round(intercept,2))\n",
    "print(f\"The r-vlaue is: {rvalue}\")\n",
    "plt.plot(x_values,regress_values,\"r-\")\n",
    "plt.annotate(line_eq,(-55,60),fontsize=15,color=\"red\")\n",
    "plt.show()"
   ]
  },
  {
   "cell_type": "markdown",
   "metadata": {},
   "source": [
    "<span style = \"color:red\"> *Description of what is being modeled in the plots above* </span>"
   ]
  },
  {
   "cell_type": "markdown",
   "metadata": {},
   "source": [
    "### Wind Speed (mph) vs. Latitude by Hemisphere"
   ]
  },
  {
   "cell_type": "markdown",
   "metadata": {},
   "source": [
    "####  Northern Hemisphere - Wind Speed (mph) vs. Latitude Linear Regression"
   ]
  },
  {
   "cell_type": "code",
   "execution_count": 62,
   "metadata": {},
   "outputs": [
    {
     "name": "stdout",
     "output_type": "stream",
     "text": [
      "The r-vlaue is: 0.14409438016590237\n"
     ]
    },
    {
     "data": {
      "image/png": "[encoded data removed]",
      "text/plain": [
       "<Figure size 432x288 with 1 Axes>"
      ]
     },
     "metadata": {
      "needs_background": "light"
     },
     "output_type": "display_data"
    }
   ],
   "source": [
    "#set up scatter plot\n",
    "x_values = north[\"Lat\"]\n",
    "y_values = north[\"Wind Speed\"]\n",
    "plt.scatter(x_values,y_values)\n",
    "plt.title(f\"City Latitude vs. Wind Speed ({analysis_date})\")\n",
    "plt.xlabel('Latitude')\n",
    "plt.ylabel('Wind Speed (mph)')\n",
    "\n",
    "# linear regression\n",
    "(slope, intercept, rvalue, pvalue, stderr) = linregress(x_values, y_values)\n",
    "regress_values = x_values * slope + intercept\n",
    "line_eq = \"y = \" + str(round(slope,2)) + \"x + \" + str(round(intercept,2))\n",
    "print(f\"The r-vlaue is: {rvalue}\")\n",
    "plt.plot(x_values,regress_values,\"r-\")\n",
    "plt.annotate(line_eq,(10,30),fontsize=15,color=\"red\")\n",
    "plt.show()"
   ]
  },
  {
   "cell_type": "markdown",
   "metadata": {},
   "source": [
    "####  Southern Hemisphere - Wind Speed (mph) vs. Latitude Linear Regression"
   ]
  },
  {
   "cell_type": "code",
   "execution_count": 68,
   "metadata": {},
   "outputs": [
    {
     "name": "stdout",
     "output_type": "stream",
     "text": [
      "The r-vlaue is: -0.25701721811571937\n"
     ]
    },
    {
     "data": {
      "image/png": "[encoded data removed]",
      "text/plain": [
       "<Figure size 432x288 with 1 Axes>"
      ]
     },
     "metadata": {
      "needs_background": "light"
     },
     "output_type": "display_data"
    }
   ],
   "source": [
    "#set up scatter plot\n",
    "x_values = south[\"Lat\"]\n",
    "y_values = south[\"Wind Speed\"]\n",
    "plt.scatter(x_values,y_values)\n",
    "plt.title(f\"City Latitude vs. Wind Speed ({analysis_date})\")\n",
    "plt.xlabel('Latitude')\n",
    "plt.ylabel('Wind Speed (mph)')\n",
    "\n",
    "# linear regression\n",
    "(slope, intercept, rvalue, pvalue, stderr) = linregress(x_values, y_values)\n",
    "regress_values = x_values * slope + intercept\n",
    "line_eq = \"y = \" + str(round(slope,2)) + \"x + \" + str(round(intercept,2))\n",
    "print(f\"The r-vlaue is: {rvalue}\")\n",
    "plt.plot(x_values,regress_values,\"r-\")\n",
    "plt.annotate(line_eq,(-30,19),fontsize=15,color=\"red\")\n",
    "plt.show()"
   ]
  },
  {
   "cell_type": "markdown",
   "metadata": {},
   "source": [
    "<span style = \"color:red\"> *Description of what is being modeled in the plots above* </span>"
   ]
  },
  {
   "cell_type": "code",
   "execution_count": null,
   "metadata": {},
   "outputs": [],
   "source": []
  }
 ],
 "metadata": {
  "anaconda-cloud": {},
  "kernel_info": {
   "name": "python3"
  },
  "kernelspec": {
   "display_name": "Python [conda env:PythonData] *",
   "language": "python",
   "name": "conda-env-PythonData-py"
  },
  "language_info": {
   "codemirror_mode": {
    "name": "ipython",
    "version": 3
   },
   "file_extension": ".py",
   "mimetype": "text/x-python",
   "name": "python",
   "nbconvert_exporter": "python",
   "pygments_lexer": "ipython3",
   "version": "3.6.10"
  },
  "latex_envs": {
   "LaTeX_envs_menu_present": true,
   "autoclose": false,
   "autocomplete": true,
   "bibliofile": "biblio.bib",
   "cite_by": "apalike",
   "current_citInitial": 1,
   "eqLabelWithNumbers": true,
   "eqNumInitial": 1,
   "hotkeys": {
    "equation": "Ctrl-E",
    "itemize": "Ctrl-I"
   },
   "labels_anchors": false,
   "latex_user_defs": false,
   "report_style_numbering": false,
   "user_envs_cfg": false
  },
  "nteract": {
   "version": "0.12.3"
  }
 },
 "nbformat": 4,
 "nbformat_minor": 2
}
